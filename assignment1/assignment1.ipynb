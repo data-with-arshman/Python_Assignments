{
 "cells": [
  {
   "cell_type": "markdown",
   "id": "882df1c3",
   "metadata": {},
   "source": [
    "# Assignment 1 (Python Basics) :"
   ]
  },
  {
   "cell_type": "markdown",
   "id": "daea3852",
   "metadata": {},
   "source": [
    "##### Q1"
   ]
  },
  {
   "cell_type": "code",
   "execution_count": null,
   "id": "e8d6c063",
   "metadata": {},
   "outputs": [
    {
     "name": "stdout",
     "output_type": "stream",
     "text": [
      "Name:\t\tArshman Khan\n",
      "Father's Name:\tNoman Khan\n",
      "Date of Birth:\t16-08-2009\n"
     ]
    }
   ],
   "source": [
    "print(\"Name:\\t\\tArshman Khan\\nFather's Name:\\tNoman Khan\\nDate of Birth:\\t16-08-2009\")"
   ]
  },
  {
   "cell_type": "markdown",
   "id": "ea6dd95b",
   "metadata": {},
   "source": [
    "#### Q2"
   ]
  },
  {
   "cell_type": "code",
   "execution_count": 5,
   "id": "49d4c035",
   "metadata": {},
   "outputs": [
    {
     "name": "stdout",
     "output_type": "stream",
     "text": [
      "My name is Arshman Khan. I am 15 years old. My height is 6.1 inches. I have completed my \n",
      "Matric and now I am studying in Adam Jee Govt Science College.\n"
     ]
    }
   ],
   "source": [
    "name=\"Arshman Khan\"\n",
    "age=15\n",
    "education=\"Matric\"\n",
    "college=\"Adam Jee Govt Science College\"\n",
    "height=6.1\n",
    "print(f\"My name is {name}. I am {age} years old. My height is {height} inches. I have completed my \\n{education} and now I am studying in {college}.\")"
   ]
  },
  {
   "cell_type": "markdown",
   "id": "68233444",
   "metadata": {},
   "source": [
    "#### Q3"
   ]
  },
  {
   "cell_type": "code",
   "execution_count": 12,
   "id": "93400841",
   "metadata": {},
   "outputs": [
    {
     "name": "stdout",
     "output_type": "stream",
     "text": [
      "7\n",
      "3\n",
      "10\n",
      "2.5\n",
      "2\n",
      "25\n",
      "1\n",
      "False\n",
      "True\n",
      "True\n",
      "False\n",
      "True\n",
      "False\n",
      "True\n",
      "True\n",
      "False\n",
      "7\n",
      "1\n",
      "14\n",
      "7.0\n",
      "3.0\n"
     ]
    }
   ],
   "source": [
    "a=5\n",
    "b=2\n",
    "# Arithmetic operations\n",
    "print(a+b)\n",
    "print(a-b)\n",
    "print(a*b)\n",
    "print(a/b)\n",
    "print(a//b)\n",
    "print(a**b)\n",
    "print(a%b)\n",
    "# Comparison operations\n",
    "print(a==b)\n",
    "print(a!=b)\n",
    "print(a>b)\n",
    "print(a<b)\n",
    "print(a>=b)\n",
    "print(a<=b)\n",
    "# Logical operations\n",
    "print(a>3 and b<3)\n",
    "print(a>3 or b>3)\n",
    "print(not(a>3 and b<3))\n",
    "# Assignment operations\n",
    "a+=2\n",
    "print(a)\n",
    "b-=1\n",
    "print(b)\n",
    "a*=2\n",
    "print(a)\n",
    "a/=2\n",
    "print(a)\n",
    "a//=2\n",
    "print(a)"
   ]
  },
  {
   "cell_type": "markdown",
   "id": "b24f72f3",
   "metadata": {},
   "source": [
    "#### Q4"
   ]
  },
  {
   "cell_type": "code",
   "execution_count": null,
   "id": "d42147ad",
   "metadata": {},
   "outputs": [
    {
     "name": "stdout",
     "output_type": "stream",
     "text": [
      "You have obtained 89.33333333333333 % in your exams.\n"
     ]
    }
   ],
   "source": [
    "eng_marks = 85\n",
    "isl_marks = 90\n",
    "maths_marks = 93\n",
    "total_marks = 300\n",
    "obtained_marks = eng_marks + isl_marks + maths_marks\n",
    "\n",
    "percentage = (obtained_marks / total_marks) * 100\n",
    "print(f\"You have obtained {percentage} % in your exams.\")"
   ]
  }
 ],
 "metadata": {
  "kernelspec": {
   "display_name": "Python 3",
   "language": "python",
   "name": "python3"
  },
  "language_info": {
   "codemirror_mode": {
    "name": "ipython",
    "version": 3
   },
   "file_extension": ".py",
   "mimetype": "text/x-python",
   "name": "python",
   "nbconvert_exporter": "python",
   "pygments_lexer": "ipython3",
   "version": "3.13.5"
  }
 },
 "nbformat": 4,
 "nbformat_minor": 5
}
