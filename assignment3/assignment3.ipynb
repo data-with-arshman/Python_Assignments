{
 "cells": [
  {
   "cell_type": "markdown",
   "id": "cd800e91",
   "metadata": {},
   "source": [
    "# Assignment - 3 (Strings)"
   ]
  },
  {
   "cell_type": "markdown",
   "id": "a01116e5",
   "metadata": {},
   "source": [
    "#### Q1"
   ]
  },
  {
   "cell_type": "code",
   "execution_count": 2,
   "id": "4a497eea",
   "metadata": {},
   "outputs": [
    {
     "name": "stdout",
     "output_type": "stream",
     "text": [
      "String :   Arshman is a good boy\n",
      "Number of vowels in the string is :  7\n"
     ]
    }
   ],
   "source": [
    "str=input(\"Enter a string :  \")\n",
    "print(f\"String :   {str}\")\n",
    "\n",
    "vowels=0\n",
    "vowels_list=\"aeiouAEIOU\"\n",
    "\n",
    "for char in str:\n",
    "    if char in vowels_list:\n",
    "        vowels+=1\n",
    "\n",
    "print(\"Number of vowels in the string is : \",vowels)"
   ]
  },
  {
   "cell_type": "markdown",
   "id": "c77c38be",
   "metadata": {},
   "source": [
    "#### Q2"
   ]
  },
  {
   "cell_type": "code",
   "execution_count": 2,
   "id": "6eae3c32",
   "metadata": {},
   "outputs": [
    {
     "name": "stdout",
     "output_type": "stream",
     "text": [
      "String : \n",
      "\t'Arshman Khan is a good boy'\n",
      "\n",
      "Number of uppercase letters :   2\n",
      "Number of lowercase letters :   19\n",
      "Number of digits :   0\n",
      "Number of whitespaces :   5\n"
     ]
    }
   ],
   "source": [
    "s= input(\"Enter a string :  \")\n",
    "print(f\"String : \\n\\t'{s}'\")\n",
    "\n",
    "upper_letters=0\n",
    "lower_letters=0\n",
    "digits=0\n",
    "whitespaces=0\n",
    "\n",
    "for char in s:\n",
    "    if char.isupper():\n",
    "        upper_letters+=1\n",
    "    elif char.islower():\n",
    "        lower_letters+=1\n",
    "    elif char.isdigit():\n",
    "        digits+=1\n",
    "    elif char.isspace():\n",
    "        whitespaces+=1\n",
    "\n",
    "print(\"\\nNumber of uppercase letters :  \",upper_letters)\n",
    "print(\"Number of lowercase letters :  \",lower_letters)\n",
    "print(\"Number of digits :  \",digits)\n",
    "print(\"Number of whitespaces :  \",whitespaces)"
   ]
  },
  {
   "cell_type": "markdown",
   "id": "b7ea5baa",
   "metadata": {},
   "source": [
    "#### Q3"
   ]
  },
  {
   "cell_type": "code",
   "execution_count": 4,
   "id": "f03b0177",
   "metadata": {},
   "outputs": [
    {
     "name": "stdout",
     "output_type": "stream",
     "text": [
      "The original string is :  \n",
      "\n",
      "\t arshman\n",
      "\n",
      "The string after swapping first and last characters is :  \n",
      "\n",
      "\t nrshmaa\n"
     ]
    }
   ],
   "source": [
    "str=input(\"Enter a string :  \")\n",
    "print(\"The original string is :  \\n\\n\\t\",str)\n",
    "\n",
    "new_str = str[-1] + str[1:-1] + str[0]\n",
    "print(\"\\nThe string after swapping first and last characters is :  \\n\\n\\t\",new_str)"
   ]
  },
  {
   "cell_type": "markdown",
   "id": "2b17e7b1",
   "metadata": {},
   "source": [
    "#### Q4"
   ]
  },
  {
   "cell_type": "code",
   "execution_count": 5,
   "id": "55d1f0f4",
   "metadata": {},
   "outputs": [
    {
     "name": "stdout",
     "output_type": "stream",
     "text": [
      "The original string is :      arshman\n",
      "The reversed string is :      namhsra\n"
     ]
    }
   ],
   "source": [
    "str=input(\"Enter a string :  \")\n",
    "print(\"The original string is :     \",str)\n",
    "\n",
    "rev_str=str[::-1]\n",
    "print(\"The reversed string is :     \",rev_str)"
   ]
  },
  {
   "cell_type": "markdown",
   "id": "a21dfc26",
   "metadata": {},
   "source": [
    "#### Q5"
   ]
  },
  {
   "cell_type": "code",
   "execution_count": 8,
   "id": "4f24f717",
   "metadata": {},
   "outputs": [
    {
     "name": "stdout",
     "output_type": "stream",
     "text": [
      "The original string is :                         examination 2025\n",
      "The string after moving first character to end is :     xamination 2025e\n"
     ]
    }
   ],
   "source": [
    "str=input(\"Enter a string :  \")\n",
    "print(\"The original string is :                        \",str)\n",
    "new_str=str[1:]+str[0]\n",
    "print(\"The string after moving first character to end is :    \",new_str)\n"
   ]
  },
  {
   "cell_type": "markdown",
   "id": "213884c2",
   "metadata": {},
   "source": [
    "#### Q6"
   ]
  },
  {
   "cell_type": "code",
   "execution_count": 9,
   "id": "7162c90d",
   "metadata": {},
   "outputs": [
    {
     "name": "stdout",
     "output_type": "stream",
     "text": [
      "Name :  Arshman Ali Khan\n",
      "First initial :  A\n",
      "Second initial :  A\n",
      "Third initial :  K\n"
     ]
    }
   ],
   "source": [
    "name=input(\"Enter your First , Middle , last name :  \")\n",
    "print(f\"Name :  {name}\")\n",
    "\n",
    "first_name_initial=name[0]\n",
    "middle_name_initial=name[name.index(\" \")+1]\n",
    "second_space_index=name.index(\" \", name.index(\" \") + 1)\n",
    "last_name_initial=name[second_space_index+1]\n",
    "\n",
    "print(f\"First initial :  {first_name_initial}\")\n",
    "print(f\"Second initial :  {middle_name_initial}\")\n",
    "print(f\"Third initial :  {last_name_initial}\")"
   ]
  },
  {
   "cell_type": "markdown",
   "id": "9a4b120f",
   "metadata": {},
   "source": [
    "#### Q7"
   ]
  },
  {
   "cell_type": "code",
   "execution_count": 10,
   "id": "7a00d24a",
   "metadata": {},
   "outputs": [
    {
     "name": "stdout",
     "output_type": "stream",
     "text": [
      "String :   madam\n",
      "\n",
      "The string (madam) is a palindrome\n"
     ]
    }
   ],
   "source": [
    "str=input(\"Enter a string :  \").lower()\n",
    "print(\"String :  \",str)\n",
    "if str==str[::-1]:\n",
    "    print(f\"\\nThe string ({str}) is a palindrome\")\n",
    "else:\n",
    "    print(f\"\\nThe string ({str}) is not a palindrome\")"
   ]
  },
  {
   "cell_type": "markdown",
   "id": "30e98e01",
   "metadata": {},
   "source": [
    "#### Q8"
   ]
  },
  {
   "cell_type": "code",
   "execution_count": 11,
   "id": "8ef49a86",
   "metadata": {},
   "outputs": [
    {
     "name": "stdout",
     "output_type": "stream",
     "text": [
      "Word :  SHIFT\n",
      "Shifted word :  HIFTS\n",
      "Shifted word :  IFTSH\n",
      "Shifted word :  FTSHI\n",
      "Shifted word :  TSHIF\n",
      "Shifted word :  SHIFT\n"
     ]
    }
   ],
   "source": [
    "word=input(\"Enter a word :  \")\n",
    "print(f\"Word :  {word}\")\n",
    "num_shift=len(word)\n",
    "for i in range(num_shift):\n",
    "    word=word[1:]+word[0]\n",
    "    print(f\"Shifted word :  {word}\")"
   ]
  },
  {
   "cell_type": "markdown",
   "id": "62e30081",
   "metadata": {},
   "source": [
    "#### Q9"
   ]
  },
  {
   "cell_type": "code",
   "execution_count": 14,
   "id": "c1f3e505",
   "metadata": {},
   "outputs": [
    {
     "name": "stdout",
     "output_type": "stream",
     "text": [
      "Password you entered is :    arshmankhan\n",
      "Password must contain 1 uppercase letter.\n",
      "                 TRY AGAIN.........\n",
      "Password must contain 1 digit.\n",
      "                 TRY AGAIN.........\n",
      "\n",
      "\n",
      "Password you entered is :    arshmankhan87\n",
      "Password must contain 1 uppercase letter.\n",
      "                 TRY AGAIN.........\n",
      "\n",
      "\n",
      "Password you entered is :    arshmanKhan87\n",
      "Password Accepted\n"
     ]
    }
   ],
   "source": [
    "password=input(\"Enter your password :  \")\n",
    "print(f\"Password you entered is :    {password}\")\n",
    "\n",
    "while True:\n",
    "    if len(password)<8:\n",
    "        print(f\"Password must be 8 letters long.\")\n",
    "    \n",
    "    has_upper=False\n",
    "    has_lower=False\n",
    "    has_digit=False\n",
    "\n",
    "    for char in password:\n",
    "        if char.isupper():\n",
    "            has_upper=True\n",
    "        elif char.islower():\n",
    "            has_lower=True\n",
    "        elif char.isdigit():\n",
    "            has_digit=True\n",
    "\n",
    "    if len(password)>=8 and has_upper and has_lower and has_digit:\n",
    "        print(f\"Password Accepted\")\n",
    "        break\n",
    "\n",
    "    else:\n",
    "        if not has_upper:\n",
    "            print(f\"Password must contain 1 uppercase letter.\")\n",
    "            print(f\"                 TRY AGAIN.........\")\n",
    "        if not has_lower:\n",
    "            print(f\"Password must contain 1 lowercase letter.\")\n",
    "            print(f\"                 TRY AGAIN.........\")\n",
    "        if not has_digit:\n",
    "            print(f\"Password must contain 1 digit.\")\n",
    "            print(f\"                 TRY AGAIN.........\")\n",
    "\n",
    "        password=input(\"Enter password again :  \")\n",
    "        print(f\"\\n\\nPassword you entered is :    {password}\")"
   ]
  }
 ],
 "metadata": {
  "kernelspec": {
   "display_name": "Python 3",
   "language": "python",
   "name": "python3"
  },
  "language_info": {
   "codemirror_mode": {
    "name": "ipython",
    "version": 3
   },
   "file_extension": ".py",
   "mimetype": "text/x-python",
   "name": "python",
   "nbconvert_exporter": "python",
   "pygments_lexer": "ipython3",
   "version": "3.13.5"
  }
 },
 "nbformat": 4,
 "nbformat_minor": 5
}
