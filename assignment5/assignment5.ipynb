{
 "cells": [
  {
   "cell_type": "markdown",
   "id": "d191f92d",
   "metadata": {},
   "source": [
    "# Assignment - 5 (Loops)"
   ]
  },
  {
   "cell_type": "markdown",
   "id": "da3d9c2d",
   "metadata": {},
   "source": [
    "#### Q1"
   ]
  },
  {
   "cell_type": "code",
   "execution_count": 1,
   "id": "4e370beb",
   "metadata": {},
   "outputs": [
    {
     "name": "stdout",
     "output_type": "stream",
     "text": [
      "1\n",
      "2\n",
      "3\n",
      "4\n",
      "5\n",
      "6\n",
      "7\n",
      "8\n",
      "9\n",
      "10\n"
     ]
    }
   ],
   "source": [
    "for i in range(1, 11):\n",
    "    print(i)\n"
   ]
  },
  {
   "cell_type": "markdown",
   "id": "0f1ce324",
   "metadata": {},
   "source": [
    "#### Q2"
   ]
  },
  {
   "cell_type": "code",
   "execution_count": 2,
   "id": "f6642584",
   "metadata": {},
   "outputs": [
    {
     "name": "stdout",
     "output_type": "stream",
     "text": [
      "20\n",
      "19\n",
      "18\n",
      "17\n",
      "16\n",
      "15\n",
      "14\n",
      "13\n",
      "12\n",
      "11\n",
      "10\n",
      "9\n",
      "8\n",
      "7\n",
      "6\n",
      "5\n",
      "4\n",
      "3\n",
      "2\n",
      "1\n"
     ]
    }
   ],
   "source": [
    "i = 20\n",
    "while i >= 1:\n",
    "    print(i)\n",
    "    i -= 1\n"
   ]
  },
  {
   "cell_type": "markdown",
   "id": "2343101e",
   "metadata": {},
   "source": [
    "#### Q3"
   ]
  },
  {
   "cell_type": "code",
   "execution_count": 3,
   "id": "760951c1",
   "metadata": {},
   "outputs": [
    {
     "name": "stdout",
     "output_type": "stream",
     "text": [
      "2\n",
      "4\n",
      "6\n",
      "8\n",
      "10\n"
     ]
    }
   ],
   "source": [
    "for i in range(2, 11, 2):\n",
    "    print(i)\n"
   ]
  },
  {
   "cell_type": "markdown",
   "id": "a7d7545f",
   "metadata": {},
   "source": [
    "#### Q4"
   ]
  },
  {
   "cell_type": "code",
   "execution_count": 5,
   "id": "690c72ef",
   "metadata": {},
   "outputs": [
    {
     "name": "stdout",
     "output_type": "stream",
     "text": [
      "Ending Number : 30\n",
      "Numbers from 1 to 30 are :   \n",
      "1\n",
      "2\n",
      "3\n",
      "4\n",
      "5\n",
      "6\n",
      "7\n",
      "8\n",
      "9\n",
      "10\n",
      "11\n",
      "12\n",
      "13\n",
      "14\n",
      "15\n",
      "16\n",
      "17\n",
      "18\n",
      "19\n",
      "20\n",
      "21\n",
      "22\n",
      "23\n",
      "24\n",
      "25\n",
      "26\n",
      "27\n",
      "28\n",
      "29\n",
      "30\n"
     ]
    }
   ],
   "source": [
    "n = int(input(\"Enter ending number :  \"))\n",
    "print(f\"Ending Number : {n}\")\n",
    "print(f\"Numbers from 1 to {n} are :   \")\n",
    "for i in range(1, n+1):\n",
    "    print(i)\n"
   ]
  },
  {
   "cell_type": "markdown",
   "id": "22a26c77",
   "metadata": {},
   "source": [
    "#### Q5"
   ]
  },
  {
   "cell_type": "code",
   "execution_count": 6,
   "id": "d25c59e2",
   "metadata": {},
   "outputs": [
    {
     "name": "stdout",
     "output_type": "stream",
     "text": [
      "Ending Number : 20\n",
      "Odd Numbers from 1 to 20 are :   \n",
      "1\n",
      "3\n",
      "5\n",
      "7\n",
      "9\n",
      "11\n",
      "13\n",
      "15\n",
      "17\n",
      "19\n"
     ]
    }
   ],
   "source": [
    "n = int(input(\"Enter ending number :  \"))\n",
    "print(f\"Ending Number : {n}\")\n",
    "print(f\"Odd Numbers from 1 to {n} are :   \")\n",
    "for i in range(1, n+1, 2):\n",
    "    print(i)\n"
   ]
  },
  {
   "cell_type": "markdown",
   "id": "5a63a889",
   "metadata": {},
   "source": [
    "#### Q6"
   ]
  },
  {
   "cell_type": "code",
   "execution_count": 7,
   "id": "a82100a8",
   "metadata": {},
   "outputs": [
    {
     "name": "stdout",
     "output_type": "stream",
     "text": [
      "Happy Birthday!\n",
      "Happy Birthday!\n",
      "Happy Birthday!\n",
      "Happy Birthday!\n",
      "Happy Birthday!\n"
     ]
    }
   ],
   "source": [
    "for _ in range(5):\n",
    "    print(\"Happy Birthday!\")"
   ]
  },
  {
   "cell_type": "markdown",
   "id": "f493dd38",
   "metadata": {},
   "source": [
    "#### Q7"
   ]
  },
  {
   "cell_type": "code",
   "execution_count": 9,
   "id": "22173238",
   "metadata": {},
   "outputs": [
    {
     "name": "stdout",
     "output_type": "stream",
     "text": [
      "Number entered :  5\n",
      "Squares of numbers from 1 to 5 are :   \n",
      "1\n",
      "4\n",
      "9\n",
      "16\n",
      "25\n"
     ]
    }
   ],
   "source": [
    "n = int(input(\"Enter a number :  \"))\n",
    "print(f\"Number entered :  {n}\")\n",
    "print(f\"Squares of numbers from 1 to {n} are :   \")\n",
    "for i in range(1, n+1):\n",
    "    print(i*i)\n"
   ]
  },
  {
   "cell_type": "markdown",
   "id": "bbdbc684",
   "metadata": {},
   "source": [
    "#### Q8"
   ]
  },
  {
   "cell_type": "code",
   "execution_count": 14,
   "id": "a27408d8",
   "metadata": {},
   "outputs": [
    {
     "name": "stdout",
     "output_type": "stream",
     "text": [
      "Number entered :  2\n",
      "Multiplication table of 2 is :   \n",
      "\n",
      "\t\t2 x 1 = 2\n",
      "\n",
      "\t\t2 x 2 = 4\n",
      "\n",
      "\t\t2 x 3 = 6\n",
      "\n",
      "\t\t2 x 4 = 8\n",
      "\n",
      "\t\t2 x 5 = 10\n",
      "\n",
      "\t\t2 x 6 = 12\n",
      "\n",
      "\t\t2 x 7 = 14\n",
      "\n",
      "\t\t2 x 8 = 16\n",
      "\n",
      "\t\t2 x 9 = 18\n",
      "\n",
      "\t\t2 x 10 = 20\n",
      "\n",
      "\t\t2 x 11 = 22\n",
      "\n",
      "\t\t2 x 12 = 24\n"
     ]
    }
   ],
   "source": [
    "n = int(input(\"Enter any number :  \"))\n",
    "print(f\"Number entered :  {n}\")\n",
    "print(f\"Multiplication table of {n} is :   \")\n",
    "for i in range(1, 13):\n",
    "    print(f\"\\n\\t\\t{n} x {i} = {n*i}\")\n"
   ]
  },
  {
   "cell_type": "markdown",
   "id": "7805cb96",
   "metadata": {},
   "source": [
    "#### Q9"
   ]
  },
  {
   "cell_type": "code",
   "execution_count": 15,
   "id": "2cfbb178",
   "metadata": {},
   "outputs": [
    {
     "name": "stdout",
     "output_type": "stream",
     "text": [
      "3 7 11 15 19 23 27 31 "
     ]
    }
   ],
   "source": [
    "\n",
    "term = 3\n",
    "difference = 4\n",
    "\n",
    "for _ in range(8):\n",
    "  print(term, end=\" \")\n",
    "  term = term + difference"
   ]
  },
  {
   "cell_type": "markdown",
   "id": "5ad6210c",
   "metadata": {},
   "source": [
    "#### Q10"
   ]
  },
  {
   "cell_type": "code",
   "execution_count": 16,
   "id": "e9b5c15e",
   "metadata": {},
   "outputs": [
    {
     "name": "stdout",
     "output_type": "stream",
     "text": [
      "2 6 18 54 162 486 "
     ]
    }
   ],
   "source": [
    "term = 2\n",
    "ratio = 3\n",
    "\n",
    "for _ in range(6):\n",
    "  print(term, end=\" \")\n",
    "  term = term * ratio"
   ]
  },
  {
   "cell_type": "markdown",
   "id": "50e24270",
   "metadata": {},
   "source": [
    "#### Q11"
   ]
  },
  {
   "cell_type": "code",
   "execution_count": 19,
   "id": "72874e3c",
   "metadata": {},
   "outputs": [
    {
     "name": "stdout",
     "output_type": "stream",
     "text": [
      "Number entered  :   10\n",
      "The sum is :   55\n"
     ]
    }
   ],
   "source": [
    "num = int(input(\"Enter a positive integer: \"))\n",
    "print(f\"Number entered  :   {num}\")\n",
    "\n",
    "total_sum = 0\n",
    "\n",
    "for i in range(1, num + 1):\n",
    "  total_sum = total_sum + i\n",
    "\n",
    "print(f\"The sum is :   {total_sum}\")"
   ]
  },
  {
   "cell_type": "markdown",
   "id": "e42e1e0b",
   "metadata": {},
   "source": [
    "#### Q12"
   ]
  },
  {
   "cell_type": "code",
   "execution_count": null,
   "id": "7c460de4",
   "metadata": {},
   "outputs": [
    {
     "name": "stdout",
     "output_type": "stream",
     "text": [
      "Number entered  :   5\n",
      "The sum of reciprocals from 1 to 5 is: 1 / 15.0\n"
     ]
    }
   ],
   "source": [
    "n = int(input(\"Enter a positive integer: \"))\n",
    "total_sum = 0.0\n",
    "print(f\"Number entered  :   {n}\")\n",
    "\n",
    "for i in range(1, n + 1):\n",
    "  total_sum += (1 / i)\n",
    "\n",
    "\n",
    "print(f\"The sum of reciprocals from 1 to {n} is: {total_sum}\")"
   ]
  },
  {
   "cell_type": "markdown",
   "id": "40665cde",
   "metadata": {},
   "source": [
    "#### Q13"
   ]
  },
  {
   "cell_type": "code",
   "execution_count": 23,
   "id": "893df0bd",
   "metadata": {},
   "outputs": [
    {
     "name": "stdout",
     "output_type": "stream",
     "text": [
      "Number 1 entered  :  2\n",
      "Number 2 entered  :  3\n",
      "Number 3 entered  :  4\n",
      "Number 4 entered  :  5\n",
      "Number 5 entered  :  6\n",
      "The final total is: 20\n"
     ]
    }
   ],
   "source": [
    "total = 0\n",
    "\n",
    "for i in range(5):\n",
    "  num = int(input(\"Enter a number: \"))\n",
    "  print(f\"Number {i+1} entered  :  {num}\")\n",
    "  total += num\n",
    "\n",
    "print(f\"The final total is: {total}\")"
   ]
  },
  {
   "cell_type": "markdown",
   "id": "a882ab31",
   "metadata": {},
   "source": [
    "#### Q14"
   ]
  },
  {
   "cell_type": "code",
   "execution_count": 24,
   "id": "45f77eb8",
   "metadata": {},
   "outputs": [
    {
     "name": "stdout",
     "output_type": "stream",
     "text": [
      "The factorial of 5 is 120.\n"
     ]
    }
   ],
   "source": [
    "n = int(input(\"Enter a positive integer: \"))\n",
    "\n",
    "if n < 0:\n",
    "  print(\"Factorial does not exist for negative numbers.\")\n",
    "elif n == 0:\n",
    "  print(\"The factorial of 0 is 1.\")\n",
    "else:\n",
    "  factorial = 1\n",
    "  for i in range(1, n + 1):\n",
    "    factorial = factorial * i\n",
    "  print(f\"The factorial of {n} is {factorial}.\")"
   ]
  },
  {
   "cell_type": "markdown",
   "id": "ff228712",
   "metadata": {},
   "source": [
    "#### Q15"
   ]
  },
  {
   "cell_type": "code",
   "execution_count": 25,
   "id": "c0b7ff68",
   "metadata": {},
   "outputs": [
    {
     "name": "stdout",
     "output_type": "stream",
     "text": [
      "4 to the power of 2 is 16.0\n"
     ]
    }
   ],
   "source": [
    "base = int(input(\"Enter a base number: \"))\n",
    "exponent = int(input(\"Enter an exponent: \"))\n",
    "\n",
    "result = 1.0\n",
    "\n",
    "if exponent > 0:\n",
    "  for _ in range(exponent):\n",
    "    result = result * base\n",
    "\n",
    "elif exponent < 0:\n",
    "  for _ in range(abs(exponent)):\n",
    "    result = result * base\n",
    "  result = 1.0 / result\n",
    "\n",
    "print(f\"{base} to the power of {exponent} is {result}\")"
   ]
  }
 ],
 "metadata": {
  "kernelspec": {
   "display_name": "Python 3",
   "language": "python",
   "name": "python3"
  },
  "language_info": {
   "codemirror_mode": {
    "name": "ipython",
    "version": 3
   },
   "file_extension": ".py",
   "mimetype": "text/x-python",
   "name": "python",
   "nbconvert_exporter": "python",
   "pygments_lexer": "ipython3",
   "version": "3.13.5"
  }
 },
 "nbformat": 4,
 "nbformat_minor": 5
}
