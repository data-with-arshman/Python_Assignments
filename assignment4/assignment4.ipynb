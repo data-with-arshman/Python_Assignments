{
 "cells": [
  {
   "cell_type": "markdown",
   "id": "18bc3d34",
   "metadata": {},
   "source": [
    "# Assignment - 4 (Lists)"
   ]
  },
  {
   "cell_type": "markdown",
   "id": "c3b9ed04",
   "metadata": {},
   "source": [
    "#### Q1"
   ]
  },
  {
   "cell_type": "code",
   "execution_count": 2,
   "id": "6e4403cb",
   "metadata": {},
   "outputs": [
    {
     "name": "stdout",
     "output_type": "stream",
     "text": [
      "The alternate elements of the list are :  0\n",
      "The alternate elements of the list are :  20\n",
      "The alternate elements of the list are :  40\n",
      "The alternate elements of the list are :  60\n",
      "The alternate elements of the list are :  80\n",
      "The alternate elements of the list are :  100\n"
     ]
    }
   ],
   "source": [
    "list=[0,10,20,30,40,50,60,70,80,90,100]\n",
    "for i in range(0,len(list),2):\n",
    "    print(\"The alternate elements of the list are : \",list[i])"
   ]
  },
  {
   "cell_type": "markdown",
   "id": "37b1ea52",
   "metadata": {},
   "source": [
    "#### Q2"
   ]
  },
  {
   "cell_type": "code",
   "execution_count": 1,
   "id": "f8c629b8",
   "metadata": {},
   "outputs": [
    {
     "name": "stdout",
     "output_type": "stream",
     "text": [
      "The reversed list is :  [100, 90, 80, 70, 60, 50, 40, 30, 20, 10, 0]\n"
     ]
    }
   ],
   "source": [
    "list=[0,10,20,30,40,50,60,70,80,90,100]\n",
    "rev_list=list[::-1]\n",
    "print(\"The reversed list is : \",rev_list)"
   ]
  },
  {
   "cell_type": "markdown",
   "id": "1da18e12",
   "metadata": {},
   "source": [
    "#### Q3"
   ]
  },
  {
   "cell_type": "code",
   "execution_count": 6,
   "id": "384a1f66",
   "metadata": {},
   "outputs": [
    {
     "name": "stdout",
     "output_type": "stream",
     "text": [
      "List :      [12, 13, 14, 15, 16, 17, 18, 19, 20]\n",
      "The largest number in the list is :  20\n"
     ]
    }
   ],
   "source": [
    "user_input=input(\"Enter numbers seperated by spaces: \")\n",
    "num_list=[int(x) for x in user_input.split()] \n",
    "print(f\"List :      {num_list}\")\n",
    "largest=num_list[0]\n",
    "for num in num_list:\n",
    "    if num>largest:\n",
    "        largest=num\n",
    "print(\"The largest number in the list is : \",largest)"
   ]
  },
  {
   "cell_type": "markdown",
   "id": "133d432d",
   "metadata": {},
   "source": [
    "#### Q4"
   ]
  },
  {
   "cell_type": "code",
   "execution_count": 2,
   "id": "5d55cec7",
   "metadata": {},
   "outputs": [
    {
     "name": "stdout",
     "output_type": "stream",
     "text": [
      "Original list: ['12', '13', '14']\n",
      "Rotated list: ['14', '12', '13']\n"
     ]
    }
   ],
   "source": [
    "nums_inp=input(\"Enter numbers seperated by spaces: \")\n",
    "list=nums_inp.split()\n",
    "new_list=[int(x) for x in list]\n",
    "print(\"Original list:\", list)\n",
    "if len(list) > 1:\n",
    "    list= [list[-1]] + list[:-1]\n",
    "\n",
    "print(\"Rotated list:\", list)\n"
   ]
  },
  {
   "cell_type": "markdown",
   "id": "8adcc2fe",
   "metadata": {},
   "source": [
    "#### Q5"
   ]
  },
  {
   "cell_type": "code",
   "execution_count": 14,
   "id": "7f075329",
   "metadata": {},
   "outputs": [
    {
     "name": "stdout",
     "output_type": "stream",
     "text": [
      "The word to be removed is: good\n",
      "The new string is: Arshman Khan is a boy and a student.\n"
     ]
    }
   ],
   "source": [
    "word = input(\"Enter the word: \")\n",
    "print(f\"The word to be removed is: {word}\")\n",
    "string = \"Arshman Khan is a good boy and a good student.\"\n",
    "words = string.split()\n",
    "\n",
    "new_words = []    \n",
    "for w in words:  \n",
    "    if w != word:\n",
    "        new_words.append(w)  \n",
    "\n",
    "if new_words == words:\n",
    "    print(f\"This word is not present in the string.\")\n",
    "\n",
    "print(\"The new string is:\", \" \".join(new_words))\n"
   ]
  },
  {
   "cell_type": "markdown",
   "id": "4d770a90",
   "metadata": {},
   "source": [
    "#### Q6"
   ]
  },
  {
   "cell_type": "code",
   "execution_count": 16,
   "id": "b17aa475",
   "metadata": {},
   "outputs": [
    {
     "name": "stdout",
     "output_type": "stream",
     "text": [
      "Date you entered is :  8/24/2025\n",
      "August 24, 2025\n"
     ]
    }
   ],
   "source": [
    "from datetime import datetime\n",
    "\n",
    "s = input(\"Enter date (mm/dd/yyyy): \").strip()\n",
    "print(f\"Date you entered is :  {s}\")\n",
    "dt = datetime.strptime(s, \"%m/%d/%Y\")\n",
    "print(f\"{dt.strftime('%B')} {dt.day}, {dt.year}\")\n"
   ]
  },
  {
   "cell_type": "markdown",
   "id": "b8d5fb78",
   "metadata": {},
   "source": [
    "#### Q7"
   ]
  },
  {
   "cell_type": "code",
   "execution_count": 19,
   "id": "64081bb1",
   "metadata": {},
   "outputs": [
    {
     "name": "stdout",
     "output_type": "stream",
     "text": [
      "The original string is  :  hello world\n",
      "Capitalized string  :   Hello World\n"
     ]
    }
   ],
   "source": [
    "\n",
    "text = input(\"Enter a string: \")\n",
    "print(f\"The original string is  :  {text}\")\n",
    "print(\"Capitalized string  :  \", ' '.join(word.capitalize() for word in text.split()))\n"
   ]
  },
  {
   "cell_type": "markdown",
   "id": "1b83dd2b",
   "metadata": {},
   "source": [
    "#### Q8"
   ]
  },
  {
   "cell_type": "code",
   "execution_count": 24,
   "id": "342a53f3",
   "metadata": {},
   "outputs": [
    {
     "name": "stdout",
     "output_type": "stream",
     "text": [
      "The matrix is: [[1, 2, 3, 4], [4, 5, 6, 7], [8, 9, 0, 10]]\n",
      "Sum of row 1 = 10\n",
      "Sum of row 2 = 22\n",
      "Sum of row 3 = 27\n"
     ]
    }
   ],
   "source": [
    "m = int(input(\"Enter number of rows: \"))\n",
    "n = int(input(\"Enter number of columns: \"))\n",
    "\n",
    "matrix = []\n",
    "\n",
    "for i in range(m):\n",
    "    row_input = input(f\"Enter row {i+1}: \")     \n",
    "    row_items = row_input.split()               \n",
    "    row_numbers = [int(x) for x in row_items]   \n",
    "    matrix.append(row_numbers)\n",
    "\n",
    "print(\"The matrix is:\", matrix)\n",
    "\n",
    "for i in range(m):\n",
    "    print(f\"Sum of row {i+1} =\", sum(matrix[i]))"
   ]
  },
  {
   "cell_type": "markdown",
   "id": "7a12c882",
   "metadata": {},
   "source": [
    "#### Q9"
   ]
  },
  {
   "cell_type": "code",
   "execution_count": 26,
   "id": "189269e7",
   "metadata": {},
   "outputs": [
    {
     "name": "stdout",
     "output_type": "stream",
     "text": [
      "Enter first matrix:\n",
      "Enter second matrix:\n",
      "Result:\n",
      "[9, 11, 13]\n",
      "[2, 8, 10]\n",
      "[9, 12, 13]\n"
     ]
    }
   ],
   "source": [
    "m = int(input(\"Rows: \"))\n",
    "n = int(input(\"Cols: \"))\n",
    "\n",
    "print(\"Enter first matrix:\")\n",
    "A = [ [int(x) for x in input().split()] for _ in range(m) ]\n",
    "\n",
    "print(\"Enter second matrix:\")\n",
    "B = [ [int(x) for x in input().split()] for _ in range(m) ]\n",
    "\n",
    "print(\"Result:\")\n",
    "for i in range(m):\n",
    "    print([A[i][j] + B[i][j] for j in range(n)])\n"
   ]
  },
  {
   "cell_type": "markdown",
   "id": "49d21e87",
   "metadata": {},
   "source": [
    "#### Q10"
   ]
  },
  {
   "cell_type": "code",
   "execution_count": 29,
   "id": "4a1f51b1",
   "metadata": {},
   "outputs": [
    {
     "name": "stdout",
     "output_type": "stream",
     "text": [
      "Enter first matrix:\n",
      "First Matrice :  [[1, 2, 3], [1, 2, 3], [1, 2, 3]]\n",
      "Enter second matrix:\n",
      "Second Matrice :  [[4, 5, 6], [4, 5, 6], [4, 5, 6]]\n",
      "Resultant Matrix:\n",
      "[24, 30, 36]\n",
      "[24, 30, 36]\n",
      "[24, 30, 36]\n"
     ]
    }
   ],
   "source": [
    "r1 = int(input(\"Rows of first matrix: \"))\n",
    "c1 = int(input(\"Cols of first matrix: \"))\n",
    "r2 = int(input(\"Rows of second matrix: \"))\n",
    "c2 = int(input(\"Cols of second matrix: \"))\n",
    "\n",
    "if c1 != r2:\n",
    "    print(\"Matrix multiplication not possible!\")\n",
    "else:\n",
    "    print(\"Enter first matrix:\")\n",
    "    A = [[int(x) for x in input().split()] for _ in range(r1)]\n",
    "    print(f\"First Matrice :  {A}\")\n",
    "\n",
    "    print(\"Enter second matrix:\")\n",
    "    B = [[int(x) for x in input().split()] for _ in range(r2)]\n",
    "    print(f\"Second Matrice :  {B}\")\n",
    "\n",
    "    result = [[0]*c2 for _ in range(r1)]\n",
    "\n",
    "    for i in range(r1):\n",
    "        for j in range(c2):\n",
    "            for k in range(c1):\n",
    "                result[i][j] += A[i][k] * B[k][j]\n",
    "\n",
    "    print(\"Resultant Matrix:\")\n",
    "    for row in result:\n",
    "        print(row)\n"
   ]
  }
 ],
 "metadata": {
  "kernelspec": {
   "display_name": "Python 3",
   "language": "python",
   "name": "python3"
  },
  "language_info": {
   "codemirror_mode": {
    "name": "ipython",
    "version": 3
   },
   "file_extension": ".py",
   "mimetype": "text/x-python",
   "name": "python",
   "nbconvert_exporter": "python",
   "pygments_lexer": "ipython3",
   "version": "3.13.5"
  }
 },
 "nbformat": 4,
 "nbformat_minor": 5
}
