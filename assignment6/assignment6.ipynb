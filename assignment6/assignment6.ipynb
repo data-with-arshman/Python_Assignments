{
 "cells": [
  {
   "cell_type": "markdown",
   "id": "183347e2",
   "metadata": {},
   "source": [
    "# Assignment - 6 (Classes)"
   ]
  },
  {
   "cell_type": "markdown",
   "id": "b899024c",
   "metadata": {},
   "source": [
    "#### Q1"
   ]
  },
  {
   "cell_type": "code",
   "execution_count": 12,
   "id": "fd3e5bc7",
   "metadata": {},
   "outputs": [
    {
     "name": "stdout",
     "output_type": "stream",
     "text": [
      "Radius :  5 cm\n",
      "Area :  78.54 cm^2\n",
      "Perimeter : 31.42 cm\n"
     ]
    }
   ],
   "source": [
    "import math\n",
    "\n",
    "class Circle:\n",
    "    def __init__(self,radius,unit):\n",
    "        self.radius = radius\n",
    "        self.unit = unit\n",
    "    def get_radius(self):\n",
    "        return f\"{self.radius} {self.unit}\"\n",
    "    def area(self):\n",
    "        return f\"{(math.pi * self.radius * self.radius):.2f} {self.unit}^2\"\n",
    "    def perimeter(self):\n",
    "        return f\"{(2 * math.pi * self.radius):.2f} {self.unit}\"\n",
    "    \n",
    "c = Circle(radius=5,unit=\"cm\")\n",
    "print(f\"Radius :  {c.get_radius()}\")\n",
    "print(f\"Area :  {c.area()}\")\n",
    "print(f\"Perimeter : {c.perimeter()}\")"
   ]
  },
  {
   "cell_type": "markdown",
   "id": "79278cc4",
   "metadata": {},
   "source": [
    "#### Q2"
   ]
  },
  {
   "cell_type": "code",
   "execution_count": 31,
   "id": "cc1bab05",
   "metadata": {},
   "outputs": [
    {
     "name": "stdout",
     "output_type": "stream",
     "text": [
      "Name : Arshman Khan,\n",
      "Country : Pakistan,\n",
      "Date of Birth: 16-08-2009.\n",
      "Age : 16 years\n"
     ]
    }
   ],
   "source": [
    "class Person:\n",
    "    def __init__(self,name,country,dob):\n",
    "        self.name = name\n",
    "        self.country = country\n",
    "        self.dob = dob\n",
    "    def get_name(self):\n",
    "        return self.name\n",
    "    def get_country(self):\n",
    "        return self.country\n",
    "    def get_dob(self):\n",
    "        return self.dob\n",
    "    def get_all_info(self):\n",
    "        return f\"Name : {self.name},\\nCountry : {self.country},\\nDate of Birth: {self.dob}.\"\n",
    "    def get_age(self,current_year):\n",
    "        birth_year = int((self.dob).split(\"-\")[-1])\n",
    "        return current_year - birth_year\n",
    "    \n",
    "p=Person(name=\"Arshman Khan\",country=\"Pakistan\",dob=\"16-08-2009\")\n",
    "print(p.get_all_info())\n",
    "print(f\"Age : {p.get_age(current_year=2025)} years\")"
   ]
  },
  {
   "cell_type": "markdown",
   "id": "7569cdfa",
   "metadata": {},
   "source": [
    "#### Q3"
   ]
  },
  {
   "cell_type": "code",
   "execution_count": 29,
   "id": "d7ae581e",
   "metadata": {},
   "outputs": [
    {
     "name": "stdout",
     "output_type": "stream",
     "text": [
      "You will enter 3 numbers....\n",
      "Number 1 : 10.0\n",
      "Number 2 : 2.0\n",
      "Number 3 : 2.0\n",
      "Addition :  14.0\n",
      "Subtraction :  6.0\n",
      "Multiplication :  40.0\n",
      "Division :  2.5\n",
      "Average :  4.666666666666667\n"
     ]
    }
   ],
   "source": [
    "import math\n",
    "n=input(\"How many numbers do you want to calculate/perform operation ?  \")\n",
    "print(f\"You will enter {n} numbers....\")\n",
    "class Calculator:\n",
    "    def __init__(self,*numbers):\n",
    "        self.numbers = numbers\n",
    "\n",
    "    def add(self):\n",
    "        return sum(self.numbers)\n",
    "    \n",
    "    def multiply(self):\n",
    "        return math.prod(self.numbers)\n",
    "    \n",
    "    def average(self):\n",
    "        return sum(self.numbers)/len(self.numbers)\n",
    "    \n",
    "    def subtract_in_order(self):\n",
    "        if not self.numbers:\n",
    "            return 0 \n",
    "        nums = sorted(self.numbers)\n",
    "        result = nums[-1]\n",
    "        for n in reversed(nums[:-1]):\n",
    "            result -= n\n",
    "        return result\n",
    "\n",
    "    def divide(self):\n",
    "        if not self.numbers:\n",
    "            return 0 \n",
    "        nums = sorted(self.numbers)\n",
    "        result = nums[-1]\n",
    "        if 0 in nums[:-1]:\n",
    "            return \"Error: Division by zero is not allowed.\"\n",
    "        for n in reversed(nums[:-1]):\n",
    "            result /= n\n",
    "        return result\n",
    "\n",
    "numbers = []\n",
    "\n",
    "for i in range(int(n)):\n",
    "    num = float(input(f\"Enter number {i+1}: \"))\n",
    "    numbers.append(num)\n",
    "\n",
    "for s_no,number in enumerate(numbers,start=1):\n",
    "    print(f\"Number {s_no} : {number}\")\n",
    "\n",
    "calc = Calculator(*numbers)\n",
    "print(f\"Addition :  {calc.add()}\")\n",
    "print(f\"Subtraction :  {calc.subtract_in_order()}\")\n",
    "print(f\"Multiplication :  {calc.multiply()}\")\n",
    "print(f\"Division :  {calc.divide()}\")\n",
    "print(f\"Average :  {calc.average()}\")"
   ]
  }
 ],
 "metadata": {
  "kernelspec": {
   "display_name": "Python 3",
   "language": "python",
   "name": "python3"
  },
  "language_info": {
   "codemirror_mode": {
    "name": "ipython",
    "version": 3
   },
   "file_extension": ".py",
   "mimetype": "text/x-python",
   "name": "python",
   "nbconvert_exporter": "python",
   "pygments_lexer": "ipython3",
   "version": "3.13.5"
  }
 },
 "nbformat": 4,
 "nbformat_minor": 5
}
