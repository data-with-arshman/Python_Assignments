{
 "cells": [
  {
   "cell_type": "markdown",
   "id": "7a08446b",
   "metadata": {},
   "source": [
    "# Assignment - 2 (Conditional Statements)"
   ]
  },
  {
   "cell_type": "markdown",
   "id": "40be33d1",
   "metadata": {},
   "source": [
    "#### Q1"
   ]
  },
  {
   "cell_type": "code",
   "execution_count": 2,
   "id": "68351ce7",
   "metadata": {},
   "outputs": [
    {
     "name": "stdout",
     "output_type": "stream",
     "text": [
      "Service years : 12\n",
      "Current Salary : 19000\n",
      "Your bonus is 950.0 and your total salary is 19950.0\n"
     ]
    }
   ],
   "source": [
    "service_years=int(input(\"Enter your service years for our company : \"))\n",
    "print(f\"Service years : {service_years}\")\n",
    "salary=int(input(\"Enter your current salary : \"))\n",
    "print(f\"Current Salary : {salary}\")\n",
    "if service_years>5:\n",
    "    bonus=(5/100)*salary\n",
    "    print(f\"Your bonus is {bonus} and your total salary is {salary+bonus}\")\n",
    "else:\n",
    "    print(\"You are not eligible for bonus\")"
   ]
  },
  {
   "cell_type": "markdown",
   "id": "d1dfdeec",
   "metadata": {},
   "source": [
    "#### Q2"
   ]
  },
  {
   "cell_type": "code",
   "execution_count": 3,
   "id": "30c9e9f2",
   "metadata": {},
   "outputs": [
    {
     "name": "stdout",
     "output_type": "stream",
     "text": [
      "Your age is 12\n",
      "Eligible age for voting is 18\n",
      "Not eligible for voting, but you can vote after 6 years.\n"
     ]
    }
   ],
   "source": [
    "age=int(input(\"Enter your age : \"))\n",
    "print(f\"Your age is {age}\")\n",
    "eligible_age=18\n",
    "print(f\"Eligible age for voting is {eligible_age}\")\n",
    "eligibility=\"Eligible for voting\" if age>=eligible_age else f\"Not eligible for voting, but you can vote after {18-age} years.\"\n",
    "print(eligibility)"
   ]
  },
  {
   "cell_type": "markdown",
   "id": "478f33d4",
   "metadata": {},
   "source": [
    "#### Q3"
   ]
  },
  {
   "cell_type": "code",
   "execution_count": 4,
   "id": "b400b09a",
   "metadata": {},
   "outputs": [
    {
     "name": "stdout",
     "output_type": "stream",
     "text": [
      "13 is Odd.\n"
     ]
    }
   ],
   "source": [
    "num=int(input(\"Enter a number to check if it is even or odd : \"))\n",
    "even_odd=\"Even\" if num%2==0 else \"Odd\"\n",
    "print(f\"{num} is {even_odd}.\")"
   ]
  },
  {
   "cell_type": "markdown",
   "id": "da3896bd",
   "metadata": {},
   "source": [
    "#### Q4"
   ]
  },
  {
   "cell_type": "code",
   "execution_count": 5,
   "id": "88ba4461",
   "metadata": {},
   "outputs": [
    {
     "name": "stdout",
     "output_type": "stream",
     "text": [
      "49 is divisible by 7.\n"
     ]
    }
   ],
   "source": [
    "num=int(input(\"Enter a number : \"))\n",
    "if num%7==0:\n",
    "    print(f\"{num} is divisible by 7.\")\n",
    "else:\n",
    "    print(f\"{num} is not divisible by 7.\")"
   ]
  },
  {
   "cell_type": "markdown",
   "id": "ed4e84ca",
   "metadata": {},
   "source": [
    "#### Q5"
   ]
  },
  {
   "cell_type": "code",
   "execution_count": 7,
   "id": "0b04956f",
   "metadata": {},
   "outputs": [
    {
     "name": "stdout",
     "output_type": "stream",
     "text": [
      "Number entered is 25\n",
      "Hello !\n"
     ]
    }
   ],
   "source": [
    "num=int(input(\"Enter a number : \"))\n",
    "print(f\"Number entered is {num}\")\n",
    "if num%5==0:\n",
    "    print(\"Hello !\")\n",
    "else:\n",
    "    print(\"Bye !\")"
   ]
  },
  {
   "cell_type": "markdown",
   "id": "05d8767f",
   "metadata": {},
   "source": [
    "#### Q6"
   ]
  },
  {
   "cell_type": "code",
   "execution_count": 16,
   "id": "d86ded29",
   "metadata": {},
   "outputs": [
    {
     "name": "stdout",
     "output_type": "stream",
     "text": [
      "The last digit is 0\n"
     ]
    }
   ],
   "source": [
    "num = int(input(\"Enter a number: \"))\n",
    "last_digit = num % 10\n",
    "if 0 <= last_digit <= 9:\n",
    "    print(f\"The last digit is {last_digit}\")"
   ]
  },
  {
   "cell_type": "markdown",
   "id": "947d321e",
   "metadata": {},
   "source": [
    "#### Q7"
   ]
  },
  {
   "cell_type": "code",
   "execution_count": 10,
   "id": "db363935",
   "metadata": {},
   "outputs": [
    {
     "name": "stdout",
     "output_type": "stream",
     "text": [
      "Length of the rectangle is 12 cm\n",
      "Breadth of the rectangle is 12 cm\n",
      "\n",
      "\tThe rectangle is a square.\n"
     ]
    }
   ],
   "source": [
    "length = int(input(\"Enter the length of the rectangle: \"))\n",
    "print(f\"Length of the rectangle is {length} cm\")\n",
    "breadth = int(input(\"Enter the breadth of the rectangle: \"))\n",
    "print(f\"Breadth of the rectangle is {breadth} cm\")\n",
    "if length== breadth:\n",
    "    print(\"\\n\\tThe rectangle is a square.\")\n",
    "else:\n",
    "    print(\"\\n\\tThe rectangle is not a square.\")"
   ]
  },
  {
   "cell_type": "markdown",
   "id": "49a0b79d",
   "metadata": {},
   "source": [
    "#### Q8"
   ]
  },
  {
   "cell_type": "code",
   "execution_count": 12,
   "id": "3a9dfcb5",
   "metadata": {},
   "outputs": [
    {
     "name": "stdout",
     "output_type": "stream",
     "text": [
      "Number 1 is 12\n",
      "Number 2 is 14\n",
      "14 is greater than 12.\n"
     ]
    }
   ],
   "source": [
    "num1=int(input(\"Enter first number : \"))\n",
    "print(f\"Number 1 is {num1}\")\n",
    "num2=int(input(\"Enter second number : \"))\n",
    "print(f\"Number 2 is {num2}\")\n",
    "if num1>num2:\n",
    "    print(f\"{num1} is greater than {num2}.\")\n",
    "elif num2>num1:\n",
    "    print(f\"{num2} is greater than {num1}.\")\n",
    "else:\n",
    "    print(\"Both numbers are equal.\")"
   ]
  },
  {
   "cell_type": "markdown",
   "id": "c0e96e40",
   "metadata": {},
   "source": [
    "#### Q9"
   ]
  },
  {
   "cell_type": "code",
   "execution_count": 13,
   "id": "eaefd6ed",
   "metadata": {},
   "outputs": [
    {
     "name": "stdout",
     "output_type": "stream",
     "text": [
      "Quantity :  12\n",
      "1 Unit Price : 100\n",
      "Total cost is 1200. You are eligible for 10% discount. Your discounted price is 1080.0.\n"
     ]
    }
   ],
   "source": [
    "quantity=int(input(\"Enter the quantity of items : \"))\n",
    "print(f\"Quantity :  {quantity}\")\n",
    "unit_price=100\n",
    "print(f\"1 Unit Price : {unit_price}\")\n",
    "total_cost=quantity*unit_price\n",
    "if total_cost>1000:\n",
    "    print(f\"Total cost is {total_cost}. You are eligible for 10% discount. Your discounted price is {total_cost - (10/100)*total_cost}.\")\n",
    "else:\n",
    "    print(f\"Total cost is {total_cost}. You are not eligible for discount.\")"
   ]
  },
  {
   "cell_type": "markdown",
   "id": "dfaa1ab5",
   "metadata": {},
   "source": [
    "#### Q10"
   ]
  },
  {
   "cell_type": "code",
   "execution_count": 17,
   "id": "665a36b7",
   "metadata": {},
   "outputs": [
    {
     "name": "stdout",
     "output_type": "stream",
     "text": [
      "Subject 1 marks : 67\n",
      "Subject 2 marks : 89\n",
      "Subject 3 marks : 78\n",
      "Subject 4 marks : 96\n",
      "Subject 5 marks : 70\n",
      "You obtained 400 out of 500\n",
      "You got A grade with 80.0%...\n"
     ]
    }
   ],
   "source": [
    "s1=int(input(\"Enter marks of subject 1 :  \"))\n",
    "s2=int(input(\"Enter marks of subject 2 :  \"))\n",
    "s3=int(input(\"Enter marks of subject 3 :  \"))\n",
    "s4=int(input(\"Enter marks of subject 4 :  \"))\n",
    "s5=int(input(\"Enter marks of subject 5 :  \"))\n",
    "print(f\"Subject 1 marks : {s1}\\nSubject 2 marks : {s2}\\nSubject 3 marks : {s3}\\nSubject 4 marks : {s4}\\nSubject 5 marks : {s5}\")\n",
    "obtained_marks=s1+s2+s3+s4+s5\n",
    "total_marks=500\n",
    "print(f\"You obtained {obtained_marks} out of {total_marks}\")\n",
    "percentage=(obtained_marks*100)/total_marks\n",
    "\n",
    "if percentage>=90 and percentage<=100:\n",
    "    print(f\"Extraordinary boy ! You got A+ grade with {percentage}%...\")\n",
    "elif percentage>=80 and percentage<90:\n",
    "    print(f\"You got A grade with {percentage}%...\")\n",
    "elif percentage>=60 and percentage<80:\n",
    "    print(f\"You got B grade with {percentage}%...\")\n",
    "elif percentage>=50 and percentage<60:\n",
    "    print(f\"You got C grade with {percentage}%...\")\n",
    "elif percentage>=45 and percentage<50:\n",
    "    print(f\"You got D grade with {percentage}%...\")\n",
    "elif percentage>=25 and percentage<45:\n",
    "    print(f\"You got E grade with {percentage}%...\")\n",
    "elif percentage>=0 and percentage<25:\n",
    "    print(f\"Sorry you are fail with {percentage}%... and got F grade...\")"
   ]
  },
  {
   "cell_type": "markdown",
   "id": "5d03ddc6",
   "metadata": {},
   "source": [
    "#### Q11"
   ]
  },
  {
   "cell_type": "code",
   "execution_count": 18,
   "id": "7276edda",
   "metadata": {},
   "outputs": [
    {
     "name": "stdout",
     "output_type": "stream",
     "text": [
      "Number of classes held : 120\n",
      "Number of classes attended : 92\n",
      "Your attendance percentage is 76.66666666666667%. You are allowed to sit in the exam.\n"
     ]
    }
   ],
   "source": [
    "no_of_classes_held=int(input(\"Enter number of classes held : \"))\n",
    "print(f\"Number of classes held : {no_of_classes_held}\")\n",
    "no_of_classes_attended=int(input(\"Enter number of classes attended : \"))\n",
    "print(f\"Number of classes attended : {no_of_classes_attended}\")\n",
    "attendance_percentage=(no_of_classes_attended*100)/no_of_classes_held\n",
    "if attendance_percentage>=75:\n",
    "    print(f\"Your attendance percentage is {attendance_percentage}%. You are allowed to sit in the exam.\")\n",
    "else:\n",
    "    print(f\"Your attendance percentage is {attendance_percentage}%. You are not allowed to sit in the exam.\")"
   ]
  },
  {
   "cell_type": "markdown",
   "id": "020938f4",
   "metadata": {},
   "source": [
    "#### Q12"
   ]
  },
  {
   "cell_type": "code",
   "execution_count": 20,
   "id": "47b1db0f",
   "metadata": {},
   "outputs": [
    {
     "name": "stdout",
     "output_type": "stream",
     "text": [
      "Number of classes held : 138\n",
      "Number of classes attended : 100\n",
      "Your attendance percentage is 72.46376811594203%.But due to your medical cause you are allowed to sit in the exam.\n"
     ]
    }
   ],
   "source": [
    "no_of_classes_held=int(input(\"Enter number of classes held : \"))\n",
    "print(f\"Number of classes held : {no_of_classes_held}\")\n",
    "no_of_classes_attended=int(input(\"Enter number of classes attended : \"))\n",
    "print(f\"Number of classes attended : {no_of_classes_attended}\")\n",
    "medical_cause=input(\"Did you have any medical cause ? (yes/no) : \").lower()\n",
    "attendance_percentage=(no_of_classes_attended*100)/no_of_classes_held\n",
    "if attendance_percentage>=75:\n",
    "    print(f\"Your attendance percentage is {attendance_percentage}%. You are allowed to sit in the exam.\")\n",
    "elif attendance_percentage<75 and medical_cause==\"yes\":\n",
    "    print(f\"Your attendance percentage is {attendance_percentage}%.But due to your medical cause you are allowed to sit in the exam.\") \n",
    "else:\n",
    "    print(f\"Your attendance percentage is {attendance_percentage}%. You are not allowed to sit in the exam.\")"
   ]
  },
  {
   "cell_type": "markdown",
   "id": "aab295df",
   "metadata": {},
   "source": [
    "#### Q13"
   ]
  },
  {
   "cell_type": "code",
   "execution_count": 21,
   "id": "f8f6933a",
   "metadata": {},
   "outputs": [
    {
     "name": "stdout",
     "output_type": "stream",
     "text": [
      "Entered year is 1200\n",
      "1200 was a leap year\n"
     ]
    }
   ],
   "source": [
    "year=int(input(\"Enter year :  \"))\n",
    "print(f\"Entered year is {year}\")\n",
    "\n",
    "if year%100==0 and year%400==0:\n",
    "    if year>2025:\n",
    "        print(f\"{year} will be a leap year\")\n",
    "    elif year<2025:\n",
    "        print(f\"{year} was a leap year\")\n",
    "elif year%4==0 and year%100!=0:\n",
    "    if year>2025:\n",
    "        print(f\"{year} will be a leap year\")\n",
    "    elif year<2025:\n",
    "        print(f\"{year} was a leap year\")\n",
    "else:\n",
    "    if year>2025:\n",
    "        print(f\"{year} will not be a leap year\")\n",
    "    elif year<2025:\n",
    "        print(f\"{year} was not a leap year\")\n",
    "    elif year==2025:\n",
    "        print(f\"{year} is not a leap year\")"
   ]
  },
  {
   "cell_type": "markdown",
   "id": "a4005178",
   "metadata": {},
   "source": [
    "#### Q14"
   ]
  },
  {
   "cell_type": "code",
   "execution_count": 23,
   "id": "f2287c6b",
   "metadata": {},
   "outputs": [
    {
     "name": "stdout",
     "output_type": "stream",
     "text": [
      "Your age is 34\n",
      "Your gender is female\n",
      "Your marital status is yes\n",
      "Hey woman you are allowed to work only in urban areas.\n"
     ]
    }
   ],
   "source": [
    "age=int(input(\"Enter your age : \"))\n",
    "print(f\"Your age is {age}\")\n",
    "gender=input(\"Enter your gender (male/female):  \").lower()\n",
    "print(f\"Your gender is {gender}\")\n",
    "marital_status=input(\"Enter your marital status (yes/no) : \").lower()\n",
    "print(f\"Your marital status is {marital_status}\")\n",
    "\n",
    "if gender==\"female\":\n",
    "    print(\"Hey woman you are allowed to work only in urban areas.\")\n",
    "elif gender==\"male\" and (age>=20 and age<=40):\n",
    "    print(\"Hey man You are allowed to work anywhere.\")\n",
    "elif gender==\"male\" and (age>40 and age<=60):\n",
    "    print(\"Hey man you are also allowed to work only in urban areas.\")\n",
    "else:\n",
    "    print(\"ERROR 404 ! \")"
   ]
  },
  {
   "cell_type": "markdown",
   "id": "ee38cfd0",
   "metadata": {},
   "source": [
    "#### Q15"
   ]
  },
  {
   "cell_type": "code",
   "execution_count": 1,
   "id": "66db2bcb",
   "metadata": {},
   "outputs": [
    {
     "name": "stdout",
     "output_type": "stream",
     "text": [
      "Units consumed : 310\n",
      "Your total electricity bill is 1100 Rs.\n"
     ]
    }
   ],
   "source": [
    "units=int(input(\"Enter number of units consumed : \"))\n",
    "print(f\"Units consumed : {units}\")          \n",
    "\n",
    "bill=0\n",
    "\n",
    "if units<=100:\n",
    "    bill=0\n",
    "elif units<=300:\n",
    "    bill=(units-100)*5\n",
    "elif units>300:\n",
    "    bill=(200*5)+(units-300)*10\n",
    "\n",
    "print(f\"Your total electricity bill is {bill} Rs.\")"
   ]
  },
  {
   "cell_type": "markdown",
   "id": "820bf5eb",
   "metadata": {},
   "source": [
    "#### Q16"
   ]
  },
  {
   "cell_type": "code",
   "execution_count": 27,
   "id": "1a335fd8",
   "metadata": {},
   "outputs": [
    {
     "name": "stdout",
     "output_type": "stream",
     "text": [
      "-Age of first person is 13\n",
      "-Age of second person is 16\n",
      "-Age of third person is 19\n",
      "\n",
      "Person with age 19 is the oldest.\n"
     ]
    }
   ],
   "source": [
    "age_1=int(input(\"Enter age of first person :  \"))\n",
    "print(f\"-Age of first person is {age_1}\")\n",
    "age_2=int(input(\"Enter age of second person :  \"))\n",
    "print(f\"-Age of second person is {age_2}\")\n",
    "age_3=int(input(\"Enter age of third person :  \"))\n",
    "print(f\"-Age of third person is {age_3}\")\n",
    "\n",
    "if age_1>age_2 and age_1>age_3:\n",
    "    print(f\"\\nPerson with age {age_1} is the oldest.\")\n",
    "elif age_2>age_1 and age_2>age_3:\n",
    "    print(f\"\\nPerson with age {age_2} is the oldest.\")\n",
    "elif age_3>age_1 and age_3>age_2:\n",
    "    print(f\"\\nPerson with age {age_3} is the oldest.\")\n",
    "else:\n",
    "    print(\"\\nAll persons are of same age.\")"
   ]
  }
 ],
 "metadata": {
  "kernelspec": {
   "display_name": "Python 3",
   "language": "python",
   "name": "python3"
  },
  "language_info": {
   "codemirror_mode": {
    "name": "ipython",
    "version": 3
   },
   "file_extension": ".py",
   "mimetype": "text/x-python",
   "name": "python",
   "nbconvert_exporter": "python",
   "pygments_lexer": "ipython3",
   "version": "3.13.5"
  }
 },
 "nbformat": 4,
 "nbformat_minor": 5
}
